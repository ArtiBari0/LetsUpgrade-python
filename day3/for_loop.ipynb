{
 "cells": [
  {
   "cell_type": "markdown",
   "metadata": {},
   "source": [
    "### for loop"
   ]
  },
  {
   "cell_type": "code",
   "execution_count": 5,
   "metadata": {},
   "outputs": [
    {
     "name": "stdout",
     "output_type": "stream",
     "text": [
      "Prime numbers from 1 - 200 :::: 2\n",
      "Prime numbers from 1 - 200 :::: 3\n",
      "Prime numbers from 1 - 200 :::: 5\n",
      "Prime numbers from 1 - 200 :::: 7\n",
      "Prime numbers from 1 - 200 :::: 11\n",
      "Prime numbers from 1 - 200 :::: 13\n",
      "Prime numbers from 1 - 200 :::: 17\n",
      "Prime numbers from 1 - 200 :::: 19\n",
      "Prime numbers from 1 - 200 :::: 23\n",
      "Prime numbers from 1 - 200 :::: 29\n",
      "Prime numbers from 1 - 200 :::: 31\n",
      "Prime numbers from 1 - 200 :::: 37\n",
      "Prime numbers from 1 - 200 :::: 41\n",
      "Prime numbers from 1 - 200 :::: 43\n",
      "Prime numbers from 1 - 200 :::: 47\n",
      "Prime numbers from 1 - 200 :::: 53\n",
      "Prime numbers from 1 - 200 :::: 59\n",
      "Prime numbers from 1 - 200 :::: 61\n",
      "Prime numbers from 1 - 200 :::: 67\n",
      "Prime numbers from 1 - 200 :::: 71\n",
      "Prime numbers from 1 - 200 :::: 73\n",
      "Prime numbers from 1 - 200 :::: 79\n",
      "Prime numbers from 1 - 200 :::: 83\n",
      "Prime numbers from 1 - 200 :::: 89\n",
      "Prime numbers from 1 - 200 :::: 97\n",
      "Prime numbers from 1 - 200 :::: 101\n",
      "Prime numbers from 1 - 200 :::: 103\n",
      "Prime numbers from 1 - 200 :::: 107\n",
      "Prime numbers from 1 - 200 :::: 109\n",
      "Prime numbers from 1 - 200 :::: 113\n",
      "Prime numbers from 1 - 200 :::: 127\n",
      "Prime numbers from 1 - 200 :::: 131\n",
      "Prime numbers from 1 - 200 :::: 137\n",
      "Prime numbers from 1 - 200 :::: 139\n",
      "Prime numbers from 1 - 200 :::: 149\n",
      "Prime numbers from 1 - 200 :::: 151\n",
      "Prime numbers from 1 - 200 :::: 157\n",
      "Prime numbers from 1 - 200 :::: 163\n",
      "Prime numbers from 1 - 200 :::: 167\n",
      "Prime numbers from 1 - 200 :::: 173\n",
      "Prime numbers from 1 - 200 :::: 179\n",
      "Prime numbers from 1 - 200 :::: 181\n",
      "Prime numbers from 1 - 200 :::: 191\n",
      "Prime numbers from 1 - 200 :::: 193\n",
      "Prime numbers from 1 - 200 :::: 197\n",
      "Prime numbers from 1 - 200 :::: 199\n"
     ]
    }
   ],
   "source": [
    "## for loop - prime number from 1-2000\n",
    "for i in range(1,200):\n",
    "    count =0\n",
    "    for num in range(2,(i//2+1)):\n",
    "        if i%num==0:\n",
    "            count +=1\n",
    "            break\n",
    "    if count==0 and i!=1:\n",
    "        print(\"Prime numbers from 1 - 200 ::::\",i)"
   ]
  },
  {
   "cell_type": "code",
   "execution_count": null,
   "metadata": {},
   "outputs": [],
   "source": []
  }
 ],
 "metadata": {
  "kernelspec": {
   "display_name": "Python 3",
   "language": "python",
   "name": "python3"
  },
  "language_info": {
   "codemirror_mode": {
    "name": "ipython",
    "version": 3
   },
   "file_extension": ".py",
   "mimetype": "text/x-python",
   "name": "python",
   "nbconvert_exporter": "python",
   "pygments_lexer": "ipython3",
   "version": "3.7.3"
  }
 },
 "nbformat": 4,
 "nbformat_minor": 2
}
