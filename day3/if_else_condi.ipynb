{
 "cells": [
  {
   "cell_type": "markdown",
   "metadata": {},
   "source": [
    "### if-else condition "
   ]
  },
  {
   "cell_type": "code",
   "execution_count": 9,
   "metadata": {},
   "outputs": [
    {
     "name": "stdout",
     "output_type": "stream",
     "text": [
      "Please enter the altitude :5500\n",
      "go round and try later\n"
     ]
    }
   ],
   "source": [
    "# Day 3rd assignment\n",
    "\n",
    "inp = int(input(\"Please enter the altitude :\"))\n",
    "if inp <= 1000:\n",
    "    print(\"Land the plan\")\n",
    "elif inp > 1000 and inp < 5000:\n",
    "    print(\"come down to 1000ft\")\n",
    "else:\n",
    "    print('go round and try later')"
   ]
  },
  {
   "cell_type": "code",
   "execution_count": null,
   "metadata": {},
   "outputs": [],
   "source": []
  }
 ],
 "metadata": {
  "kernelspec": {
   "display_name": "Python 3",
   "language": "python",
   "name": "python3"
  },
  "language_info": {
   "codemirror_mode": {
    "name": "ipython",
    "version": 3
   },
   "file_extension": ".py",
   "mimetype": "text/x-python",
   "name": "python",
   "nbconvert_exporter": "python",
   "pygments_lexer": "ipython3",
   "version": "3.7.3"
  }
 },
 "nbformat": 4,
 "nbformat_minor": 2
}
