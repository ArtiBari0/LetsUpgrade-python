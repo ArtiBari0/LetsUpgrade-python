{
 "cells": [
  {
   "cell_type": "markdown",
   "metadata": {},
   "source": [
    "### Dictionary and default opertaion "
   ]
  },
  {
   "cell_type": "code",
   "execution_count": 31,
   "metadata": {},
   "outputs": [
    {
     "name": "stdout",
     "output_type": "stream",
     "text": [
      "{'name': ['riya', 'yash', 'john'], 'age': [21, 25, 30], 'city': ['mumbai', 'pune', 'nasik']}\n",
      "all the items of the dic :: dict_items([('name', ['riya', 'yash', 'john']), ('age', [21, 25, 30]), ('city', ['mumbai', 'pune', 'nasik'])])\n",
      "Get the element of dic :: ['riya', 'yash', 'john']\n",
      "all the keys of dic ::  dict_keys(['name', 'age', 'city'])\n",
      "remove the element ::  ['mumbai', 'pune', 'nasik']\n",
      "Updated dic :: {'name': ['riya', 'yash', 'john'], 'age': [21, 25, 30], 'fav_color': ['red', 'yellow', 'green']}\n"
     ]
    }
   ],
   "source": [
    "dic = {'name': ['riya', 'yash', 'john'], 'age': [21, 25, 30], 'city': ['mumbai', 'pune', 'nasik']}\n",
    "print(dic)\n",
    "\n",
    "## items function \n",
    "print(\"all the items of the dic ::\",dic.items())\n",
    "\n",
    "## get function\n",
    "print('Get the element of dic ::',dic.get('name'))\n",
    "\n",
    "## keys() function\n",
    "print(\"all the keys of dic :: \", dic.keys())\n",
    "\n",
    "## pop function\n",
    "print(\"remove the element :: \",dic.pop('city'))\n",
    "\n",
    "## update function\n",
    "dic.update({'fav_color': ['red', 'yellow', 'green']})\n",
    "print(\"Updated dic ::\",dic)"
   ]
  },
  {
   "cell_type": "code",
   "execution_count": null,
   "metadata": {},
   "outputs": [],
   "source": []
  },
  {
   "cell_type": "code",
   "execution_count": null,
   "metadata": {},
   "outputs": [],
   "source": []
  },
  {
   "cell_type": "code",
   "execution_count": null,
   "metadata": {},
   "outputs": [],
   "source": []
  },
  {
   "cell_type": "code",
   "execution_count": null,
   "metadata": {},
   "outputs": [],
   "source": []
  }
 ],
 "metadata": {
  "kernelspec": {
   "display_name": "Python 3",
   "language": "python",
   "name": "python3"
  },
  "language_info": {
   "codemirror_mode": {
    "name": "ipython",
    "version": 3
   },
   "file_extension": ".py",
   "mimetype": "text/x-python",
   "name": "python",
   "nbconvert_exporter": "python",
   "pygments_lexer": "ipython3",
   "version": "3.7.3"
  }
 },
 "nbformat": 4,
 "nbformat_minor": 2
}
