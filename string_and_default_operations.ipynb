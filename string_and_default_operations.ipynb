{
 "cells": [
  {
   "cell_type": "markdown",
   "metadata": {},
   "source": [
    "### string and default operations"
   ]
  },
  {
   "cell_type": "code",
   "execution_count": 11,
   "metadata": {},
   "outputs": [
    {
     "name": "stdout",
     "output_type": "stream",
     "text": [
      "welcome to letsupgarde !!!!    \n",
      "striped function : welcome to letsupgarde !!!!\n",
      "splitted output :  ['welcome', 'to', 'letsupgarde', '!!!!', '', '', '', '']\n",
      "Replaced String :  WelCome to letsupgarde !!!!    \n",
      "capitalize string :  Welcome to letsupgarde !!!!    \n",
      "swapcase string :  WELCOME TO LETSUPGARDE !!!!    \n"
     ]
    }
   ],
   "source": [
    "string = 'welcome to letsupgarde !!!!    '\n",
    "print(string)\n",
    "\n",
    "## strip function\n",
    "str1 = string.strip()\n",
    "print('striped function :',str1)\n",
    "\n",
    "## split function \n",
    "str2 = string.split(' ')\n",
    "print('splitted output : ',str2)\n",
    "\n",
    "## replace function\n",
    "str3 = string.replace('welcome','WelCome')\n",
    "print('Replaced String : ',str3)\n",
    "\n",
    "## capitalize function\n",
    "str4 = string.capitalize()\n",
    "print('capitalize string : ',str4)\n",
    "\n",
    "## swapcase function\n",
    "str5 = string.swapcase()\n",
    "print('swapcase string : ',str5)"
   ]
  },
  {
   "cell_type": "code",
   "execution_count": null,
   "metadata": {},
   "outputs": [],
   "source": []
  }
 ],
 "metadata": {
  "kernelspec": {
   "display_name": "Python 3",
   "language": "python",
   "name": "python3"
  },
  "language_info": {
   "codemirror_mode": {
    "name": "ipython",
    "version": 3
   },
   "file_extension": ".py",
   "mimetype": "text/x-python",
   "name": "python",
   "nbconvert_exporter": "python",
   "pygments_lexer": "ipython3",
   "version": "3.7.3"
  }
 },
 "nbformat": 4,
 "nbformat_minor": 2
}
