{
 "cells": [
  {
   "cell_type": "markdown",
   "metadata": {},
   "source": [
    "### tuple and default operations"
   ]
  },
  {
   "cell_type": "code",
   "execution_count": 12,
   "metadata": {},
   "outputs": [
    {
     "name": "stdout",
     "output_type": "stream",
     "text": [
      "(1, 8, 33, 5, 3, 15, 9, 4, 10)\n",
      "Count of the elements in tuple :  1\n",
      "Index of the element :  5\n",
      "length of the tuple :  9\n",
      "minimum of the tuple :  1\n",
      "Concatenation tuple :  (1, 8, 33, 5, 3, 15, 9, 4, 10, 7, 2, 4, 2, 1, 6, 4, 7, 9)\n"
     ]
    }
   ],
   "source": [
    "tuples1 = (1,8,33,5,3,15,9,4,10)\n",
    "tuples2 = (7,2,4,2,1,6,4,7,9)\n",
    "print(tuples)\n",
    "\n",
    "## count function\n",
    "print(\"Count of the elements in tuple : \",tuples.count(5))\n",
    "\n",
    "## index function\n",
    "print('Index of the element : ', tuples.index(15))\n",
    "\n",
    "## length function\n",
    "print('length of the tuple : ',len(tuples))\n",
    "\n",
    "## minimum function\n",
    "print('minimum of the tuple : ',min(tuples))\n",
    "\n",
    "## Concatenation  function\n",
    "tuple3 = tuples1 + tuples2\n",
    "print(\"Concatenation tuple : \",tuple3)\n"
   ]
  },
  {
   "cell_type": "code",
   "execution_count": null,
   "metadata": {},
   "outputs": [],
   "source": [
    "\n"
   ]
  }
 ],
 "metadata": {
  "kernelspec": {
   "display_name": "Python 3",
   "language": "python",
   "name": "python3"
  },
  "language_info": {
   "codemirror_mode": {
    "name": "ipython",
    "version": 3
   },
   "file_extension": ".py",
   "mimetype": "text/x-python",
   "name": "python",
   "nbconvert_exporter": "python",
   "pygments_lexer": "ipython3",
   "version": "3.7.3"
  }
 },
 "nbformat": 4,
 "nbformat_minor": 2
}
