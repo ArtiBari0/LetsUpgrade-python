{
 "cells": [
  {
   "cell_type": "markdown",
   "metadata": {},
   "source": [
    "### List and default function "
   ]
  },
  {
   "cell_type": "code",
   "execution_count": 27,
   "metadata": {},
   "outputs": [
    {
     "name": "stdout",
     "output_type": "stream",
     "text": [
      "Appended List :: ['yash', 'raj', 'riya', 'naina', 'ritu', 'miya']\n",
      "removed the element :: ['yash', 'riya', 'naina', 'ritu', 'miya']\n",
      "pop the element :: ['yash', 'riya', 'naina', 'ritu']\n",
      "Sorted list :: ['naina', 'ritu', 'riya', 'yash']\n",
      "Insert the element :: ['naina', 'ritu', 'riya', 'raj', 'yash']\n"
     ]
    }
   ],
   "source": [
    "lst = ['yash','raj','riya','naina','ritu']\n",
    "# print(lst)\n",
    "\n",
    "## append function \n",
    "lst.append('miya') ## append is used to add the element at the last of the list \n",
    "print(\"Appended List ::\",lst)\n",
    "\n",
    "## remove function \n",
    "lst.remove('raj') ## remove the element from the list but element is given by the user \n",
    "print(\"removed the element ::\",lst)\n",
    "\n",
    "## pop function \n",
    "lst.pop() ## delete the element from last\n",
    "print(\"pop the element ::\",lst)\n",
    "\n",
    "## sort function\n",
    "lst.sort() ## sorting on alphabetical order\n",
    "print(\"Sorted list ::\",lst)\n",
    "\n",
    "##insert function \n",
    "lst.insert(3,'raj') ## insert at the particular index \n",
    "print(\"Insert the element ::\" ,lst)"
   ]
  },
  {
   "cell_type": "code",
   "execution_count": null,
   "metadata": {},
   "outputs": [],
   "source": []
  }
 ],
 "metadata": {
  "kernelspec": {
   "display_name": "Python 3",
   "language": "python",
   "name": "python3"
  },
  "language_info": {
   "codemirror_mode": {
    "name": "ipython",
    "version": 3
   },
   "file_extension": ".py",
   "mimetype": "text/x-python",
   "name": "python",
   "nbconvert_exporter": "python",
   "pygments_lexer": "ipython3",
   "version": "3.7.3"
  }
 },
 "nbformat": 4,
 "nbformat_minor": 2
}
