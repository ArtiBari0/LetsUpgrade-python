{
 "cells": [
  {
   "cell_type": "markdown",
   "metadata": {},
   "source": [
    "### Armstrong Number"
   ]
  },
  {
   "cell_type": "code",
   "execution_count": null,
   "metadata": {},
   "outputs": [],
   "source": [
    "lower = int(input('enter the lower range'))\n",
    "upper = int(input('enter the upper range'))\n",
    "lst =[]\n",
    "for i in range(lower,upper): ##1042000,702648265\n",
    "    num = i\n",
    "    result = 0\n",
    "    n = len(str(i))\n",
    "#     lst = []\n",
    "    while i!=0:\n",
    "        digit = i%10\n",
    "        result = result + digit**3\n",
    "        i = i//10\n",
    "\n",
    "    if num == result:\n",
    "#         print(result)\n",
    "        lst.append(result)\n",
    "print(lst[0])"
   ]
  }
 ],
 "metadata": {
  "kernelspec": {
   "display_name": "Python 3",
   "language": "python",
   "name": "python3"
  },
  "language_info": {
   "codemirror_mode": {
    "name": "ipython",
    "version": 3
   },
   "file_extension": ".py",
   "mimetype": "text/x-python",
   "name": "python",
   "nbconvert_exporter": "python",
   "pygments_lexer": "ipython3",
   "version": "3.7.3"
  }
 },
 "nbformat": 4,
 "nbformat_minor": 2
}
