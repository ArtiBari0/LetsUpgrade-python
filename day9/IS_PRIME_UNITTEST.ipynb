{
 "cells": [
  {
   "cell_type": "code",
   "execution_count": 30,
   "metadata": {},
   "outputs": [
    {
     "name": "stdout",
     "output_type": "stream",
     "text": [
      "Overwriting is_prime.py\n"
     ]
    }
   ],
   "source": [
    "%%writefile is_prime.py\n",
    "\"\"\"checking the number is prime or not\"\"\"\n",
    "\n",
    "def is_prime(number):\n",
    "    '''Function starts from here and check n is greater than 1 always'''\n",
    "    if number > 1:\n",
    "        for i in range(2, number):\n",
    "            \"\"\"iterate over from 2 till number\"\"\"\n",
    "            if number % i == 0:\n",
    "                return False\n",
    "        else:\n",
    "            return True"
   ]
  },
  {
   "cell_type": "code",
   "execution_count": 14,
   "metadata": {},
   "outputs": [
    {
     "name": "stdout",
     "output_type": "stream",
     "text": [
      "Overwriting checking_test.py\n"
     ]
    }
   ],
   "source": [
    "%%writefile checking_test.py\n",
    "\n",
    "import unittest\n",
    "from is_prime import is_prime\n",
    "\n",
    "class Check_is_prime(unittest.TestCase):\n",
    "    def num_is_prime(self):\n",
    "        number = 8\n",
    "        result = is_prime(number)\n",
    "        self.assertEquals(result,False)\n",
    "        \n",
    "if __name__ == \"__main__\":\n",
    "    unittest.main()"
   ]
  },
  {
   "cell_type": "code",
   "execution_count": 15,
   "metadata": {},
   "outputs": [
    {
     "name": "stderr",
     "output_type": "stream",
     "text": [
      "\n",
      "----------------------------------------------------------------------\n",
      "Ran 0 tests in 0.000s\n",
      "\n",
      "OK\n"
     ]
    }
   ],
   "source": [
    "! python checking_test.py"
   ]
  },
  {
   "cell_type": "code",
   "execution_count": 31,
   "metadata": {},
   "outputs": [
    {
     "name": "stdout",
     "output_type": "stream",
     "text": [
      "************* Module is_prime\n",
      "is_prime.py:10:8: W0120: Else clause on loop without a break statement (useless-else-on-loop)\n",
      "is_prime.py:7:12: W0105: String statement has no effect (pointless-string-statement)\n",
      "is_prime.py:3:0: R1710: Either all return statements in a function should return an expression, or none of them should. (inconsistent-return-statements)\n",
      "\n",
      "------------------------------------------------------------------\n",
      "\n",
      "Your code has been rated at 5.71/10 (previous run: 4.29/10, +1.43)\n",
      "\n",
      "\n",
      "\n"
     ]
    }
   ],
   "source": [
    "! pylint \"is_prime.py\""
   ]
  },
  {
   "cell_type": "code",
   "execution_count": null,
   "metadata": {},
   "outputs": [],
   "source": []
  }
 ],
 "metadata": {
  "kernelspec": {
   "display_name": "Python 3",
   "language": "python",
   "name": "python3"
  },
  "language_info": {
   "codemirror_mode": {
    "name": "ipython",
    "version": 3
   },
   "file_extension": ".py",
   "mimetype": "text/x-python",
   "name": "python",
   "nbconvert_exporter": "python",
   "pygments_lexer": "ipython3",
   "version": "3.7.3"
  }
 },
 "nbformat": 4,
 "nbformat_minor": 2
}
