{
 "cells": [
  {
   "cell_type": "markdown",
   "metadata": {},
   "source": [
    "### class BankAccount "
   ]
  },
  {
   "cell_type": "code",
   "execution_count": 86,
   "metadata": {},
   "outputs": [],
   "source": [
    "class BankAccount():\n",
    "    def __init__(self,ownername,balance):\n",
    "        self.ownername = ownername\n",
    "        self.balance = balance \n",
    "    \n",
    "    def deposit(self,amount):\n",
    "        self.balance = self.balance + amount\n",
    "        print(\"Total amount is after deposit is {} , deposit amount is {}.....\".format(self.balance,amount))\n",
    "        return self.balance\n",
    "    \n",
    "    def withdraw(self,amount):\n",
    "        if self.balance > 1000 and self.balance > amount :\n",
    "            self.balance = self.balance + (-amount)\n",
    "            print('u can withdraw the amount')\n",
    "            print(\"Total amount after withdraw is {}, withdraw amount is {}......\".format(self.balance,amount))\n",
    "        else:\n",
    "            self.balance = self.balance\n",
    "            print('sorry !!! u cant withdraw because ur available balance is less than 1000')\n",
    "            print(\"Total amount is only {}...\".format(self.balance))\n",
    "        \n",
    "        return self.balance\n"
   ]
  },
  {
   "cell_type": "code",
   "execution_count": null,
   "metadata": {},
   "outputs": [],
   "source": []
  }
 ],
 "metadata": {
  "kernelspec": {
   "display_name": "Python 3",
   "language": "python",
   "name": "python3"
  },
  "language_info": {
   "codemirror_mode": {
    "name": "ipython",
    "version": 3
   },
   "file_extension": ".py",
   "mimetype": "text/x-python",
   "name": "python",
   "nbconvert_exporter": "python",
   "pygments_lexer": "ipython3",
   "version": "3.7.3"
  }
 },
 "nbformat": 4,
 "nbformat_minor": 2
}
