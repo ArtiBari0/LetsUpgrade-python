{
 "cells": [
  {
   "cell_type": "markdown",
   "metadata": {},
   "source": [
    "### Set and default operations"
   ]
  },
  {
   "cell_type": "code",
   "execution_count": 18,
   "metadata": {},
   "outputs": [
    {
     "name": "stdout",
     "output_type": "stream",
     "text": [
      "Common element in set1 and set2 :  {1, 3, 4, 7, 8, 9}\n",
      "Unique element in set1 and set2 :  {0, 1, 2, 3, 4, 5, 6, 7, 8, 9, 10, 45}\n",
      "Add the element :  {1, 2, 3, 4, 6, 7, 8, 9, 10, 45, 50}\n",
      "delet the element from set :  0\n",
      "Updated set {1, 2, 3, 4, 6, 7, 8, 9, 10, 45, 13, 50, 18, 19}\n"
     ]
    }
   ],
   "source": [
    "set1 = {1,9,10,3,6,2,4,2,45,7,3,6,8}\n",
    "set2 = {8,3,5,7,8,9,1,0,4,5}\n",
    "\n",
    "## intersection function \n",
    "set3 = set1.intersection(set2)\n",
    "print(\"Common element in set1 and set2 : \",set3)\n",
    "\n",
    "## union function\n",
    "set4 = set1.union(set2)\n",
    "print(\"Unique element in set1 and set2 : \",set4)\n",
    "\n",
    "## add function\n",
    "set1.add(50)\n",
    "print(\"Add the element : \",set1)\n",
    "\n",
    "## pop function\n",
    "print('delet the element from set : ',set2.pop())\n",
    "\n",
    "## update function\n",
    "set1.update({13,18,19})\n",
    "print(\"Updated set\",set1)\n",
    "\n",
    "\n"
   ]
  },
  {
   "cell_type": "code",
   "execution_count": null,
   "metadata": {},
   "outputs": [],
   "source": []
  }
 ],
 "metadata": {
  "kernelspec": {
   "display_name": "Python 3",
   "language": "python",
   "name": "python3"
  },
  "language_info": {
   "codemirror_mode": {
    "name": "ipython",
    "version": 3
   },
   "file_extension": ".py",
   "mimetype": "text/x-python",
   "name": "python",
   "nbconvert_exporter": "python",
   "pygments_lexer": "ipython3",
   "version": "3.7.3"
  }
 },
 "nbformat": 4,
 "nbformat_minor": 2
}
