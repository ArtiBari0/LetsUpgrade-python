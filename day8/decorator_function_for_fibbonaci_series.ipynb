{
 "cells": [
  {
   "cell_type": "code",
   "execution_count": 4,
   "metadata": {},
   "outputs": [],
   "source": [
    "def getInput(cal_fibbonai):\n",
    "    def wrap_funct():\n",
    "        n = int(input('enter the element of fibbonaci series'))\n",
    "        cal_fibbonai(n)\n",
    "    return wrap_funct()\n"
   ]
  },
  {
   "cell_type": "code",
   "execution_count": 9,
   "metadata": {},
   "outputs": [
    {
     "name": "stdout",
     "output_type": "stream",
     "text": [
      "enter the element of fibbonaci series8\n",
      "fibbonaci series is :  [1, 1, 2, 3, 5, 8, 13, 21]\n"
     ]
    }
   ],
   "source": [
    "@getInput\n",
    "def evalution(n):\n",
    "    a = 0\n",
    "    b = 1\n",
    "    c = 0\n",
    "    lst = []\n",
    "    lst.append(b)\n",
    "    for i in range(n-1):\n",
    "        c = a+b\n",
    "        a = b \n",
    "        b = c\n",
    "        lst.append(c)\n",
    "#     print(lst)\n",
    "    print('fibbonaci series is : ',lst)\n",
    "    \n",
    "    "
   ]
  },
  {
   "cell_type": "code",
   "execution_count": null,
   "metadata": {},
   "outputs": [],
   "source": []
  }
 ],
 "metadata": {
  "kernelspec": {
   "display_name": "Python 3",
   "language": "python",
   "name": "python3"
  },
  "language_info": {
   "codemirror_mode": {
    "name": "ipython",
    "version": 3
   },
   "file_extension": ".py",
   "mimetype": "text/x-python",
   "name": "python",
   "nbconvert_exporter": "python",
   "pygments_lexer": "ipython3",
   "version": "3.7.3"
  }
 },
 "nbformat": 4,
 "nbformat_minor": 2
}
